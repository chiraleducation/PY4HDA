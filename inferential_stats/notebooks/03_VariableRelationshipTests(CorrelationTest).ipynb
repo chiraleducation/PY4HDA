{
 "cells": [
  {
   "cell_type": "markdown",
   "id": "b941b3d8",
   "metadata": {},
   "source": [
    "# Variable Relationship Tests (correlation)\n",
    "- Pearson’s Correlation Coefficient\n",
    "- Spearman’s Rank Correlation\n",
    "- Kendall’s Rank Correlation\n",
    "- Chi-Squared Test"
   ]
  },
  {
   "cell_type": "markdown",
   "id": "9945f692",
   "metadata": {},
   "source": [
    "## Correlation Test\n",
    "Correlation Measures whether greater values of one variable correspond to greater values in the other. Scaled to always lie between +1 and −1\n",
    "\n",
    "- Correlation is Positive when the values increase together.\n",
    "- Correlation is Negative when one value decreases as the other increases.\n",
    "- A correlation is assumed to be linear.\n",
    "- 1 is a perfect positive correlation\n",
    "- 0 is no correlation (the values don’t seem linked at all)\n",
    "- -1 is a perfect negative correlation"
   ]
  },
  {
   "cell_type": "markdown",
   "id": "9347319a",
   "metadata": {},
   "source": [
    "## Correlation Methods\n",
    "- **Pearson's Correlation Test:** assumes the data is normally distributed and measures linear correlation.\n",
    "- **Spearman's Correlation Test:** does not assume normality and measures non-linear correlation.\n",
    "- **Kendall's Correlation Test:** similarly does not assume normality and measures non-linear correlation, but it less commonly used.\n"
   ]
  },
  {
   "cell_type": "markdown",
   "id": "250b94a9",
   "metadata": {},
   "source": [
    "## Difference Between Pearson's and Spearman's \n",
    "Pearson's Test | Spearman's Test\n",
    "---------------|----------------\n",
    "Paramentric Correlation | Non-parametric \n",
    "Linear relationship | Non-linear relationship\n",
    "Continuous variables | continuous or ordinal variables\n",
    "Propotional change | Change not at constant rate"
   ]
  },
  {
   "cell_type": "code",
   "execution_count": 2,
   "id": "981ce9a7",
   "metadata": {},
   "outputs": [],
   "source": [
    "import statsmodels.api as sm\n",
    "import matplotlib.pyplot as plt\n",
    "import pandas as pd\n",
    "import numpy as np\n",
    "import seaborn as sns \n",
    "sns.set(font_scale=2, palette= \"viridis\")\n",
    "from sklearn.preprocessing import scale\n",
    "import researchpy as rp\n",
    "from scipy import stats"
   ]
  },
  {
   "cell_type": "code",
   "execution_count": 3,
   "id": "d9beb4d5",
   "metadata": {},
   "outputs": [
    {
     "data": {
      "text/html": [
       "<div>\n",
       "<style scoped>\n",
       "    .dataframe tbody tr th:only-of-type {\n",
       "        vertical-align: middle;\n",
       "    }\n",
       "\n",
       "    .dataframe tbody tr th {\n",
       "        vertical-align: top;\n",
       "    }\n",
       "\n",
       "    .dataframe thead th {\n",
       "        text-align: right;\n",
       "    }\n",
       "</style>\n",
       "<table border=\"1\" class=\"dataframe\">\n",
       "  <thead>\n",
       "    <tr style=\"text-align: right;\">\n",
       "      <th></th>\n",
       "      <th>Height</th>\n",
       "      <th>Weight</th>\n",
       "      <th>Age</th>\n",
       "      <th>Gender</th>\n",
       "      <th>Smokes</th>\n",
       "      <th>Alcohol</th>\n",
       "      <th>Exercise</th>\n",
       "      <th>Ran</th>\n",
       "      <th>Pulse1</th>\n",
       "      <th>Pulse2</th>\n",
       "      <th>BMI</th>\n",
       "      <th>BMICat</th>\n",
       "    </tr>\n",
       "  </thead>\n",
       "  <tbody>\n",
       "    <tr>\n",
       "      <th>0</th>\n",
       "      <td>1.73</td>\n",
       "      <td>57.0</td>\n",
       "      <td>18</td>\n",
       "      <td>Female</td>\n",
       "      <td>No</td>\n",
       "      <td>Yes</td>\n",
       "      <td>Moderate</td>\n",
       "      <td>No</td>\n",
       "      <td>86.0</td>\n",
       "      <td>88.0</td>\n",
       "      <td>19.045073</td>\n",
       "      <td>Underweight</td>\n",
       "    </tr>\n",
       "    <tr>\n",
       "      <th>1</th>\n",
       "      <td>1.79</td>\n",
       "      <td>58.0</td>\n",
       "      <td>19</td>\n",
       "      <td>Female</td>\n",
       "      <td>No</td>\n",
       "      <td>Yes</td>\n",
       "      <td>Moderate</td>\n",
       "      <td>Yes</td>\n",
       "      <td>82.0</td>\n",
       "      <td>150.0</td>\n",
       "      <td>18.101807</td>\n",
       "      <td>Underweight</td>\n",
       "    </tr>\n",
       "    <tr>\n",
       "      <th>2</th>\n",
       "      <td>1.67</td>\n",
       "      <td>62.0</td>\n",
       "      <td>18</td>\n",
       "      <td>Female</td>\n",
       "      <td>No</td>\n",
       "      <td>Yes</td>\n",
       "      <td>High</td>\n",
       "      <td>Yes</td>\n",
       "      <td>96.0</td>\n",
       "      <td>176.0</td>\n",
       "      <td>22.230987</td>\n",
       "      <td>Normal</td>\n",
       "    </tr>\n",
       "    <tr>\n",
       "      <th>3</th>\n",
       "      <td>1.95</td>\n",
       "      <td>84.0</td>\n",
       "      <td>18</td>\n",
       "      <td>Male</td>\n",
       "      <td>No</td>\n",
       "      <td>Yes</td>\n",
       "      <td>High</td>\n",
       "      <td>No</td>\n",
       "      <td>71.0</td>\n",
       "      <td>73.0</td>\n",
       "      <td>22.090730</td>\n",
       "      <td>Normal</td>\n",
       "    </tr>\n",
       "    <tr>\n",
       "      <th>4</th>\n",
       "      <td>1.73</td>\n",
       "      <td>64.0</td>\n",
       "      <td>18</td>\n",
       "      <td>Female</td>\n",
       "      <td>No</td>\n",
       "      <td>Yes</td>\n",
       "      <td>Low</td>\n",
       "      <td>No</td>\n",
       "      <td>90.0</td>\n",
       "      <td>88.0</td>\n",
       "      <td>21.383942</td>\n",
       "      <td>Normal</td>\n",
       "    </tr>\n",
       "  </tbody>\n",
       "</table>\n",
       "</div>"
      ],
      "text/plain": [
       "   Height  Weight  Age  Gender Smokes Alcohol  Exercise  Ran  Pulse1  Pulse2  \\\n",
       "0    1.73    57.0   18  Female     No     Yes  Moderate   No    86.0    88.0   \n",
       "1    1.79    58.0   19  Female     No     Yes  Moderate  Yes    82.0   150.0   \n",
       "2    1.67    62.0   18  Female     No     Yes      High  Yes    96.0   176.0   \n",
       "3    1.95    84.0   18    Male     No     Yes      High   No    71.0    73.0   \n",
       "4    1.73    64.0   18  Female     No     Yes       Low   No    90.0    88.0   \n",
       "\n",
       "         BMI       BMICat  \n",
       "0  19.045073  Underweight  \n",
       "1  18.101807  Underweight  \n",
       "2  22.230987       Normal  \n",
       "3  22.090730       Normal  \n",
       "4  21.383942       Normal  "
      ]
     },
     "execution_count": 3,
     "metadata": {},
     "output_type": "execute_result"
    }
   ],
   "source": [
    "data = pd.read_csv('../data/pulse_data.csv')\n",
    "data.head() "
   ]
  },
  {
   "cell_type": "markdown",
   "id": "a6f5fe90",
   "metadata": {},
   "source": [
    "##  Pearson’s Correlation Coefficient\n",
    "Tests whether two samples have a linear relationship.\n",
    "\n",
    "### Assumptions\n",
    "\n",
    "- Observations in each sample are independent and identically distributed (iid).\n",
    "- Observations in each sample are normally distributed.\n",
    "- Observations in each sample have the same variance.\n",
    "\n",
    "### Interpretation\n",
    "- H0: There is a relationship between two variables \n",
    "- Ha: There is no relationship between two variables \n",
    "\n",
    "\n",
    "__Question: Is there any relationship between height and weight?__"
   ]
  },
  {
   "cell_type": "code",
   "execution_count": 4,
   "id": "f217e02e",
   "metadata": {},
   "outputs": [
    {
     "data": {
      "text/plain": [
       "0.7413041988574964"
      ]
     },
     "execution_count": 4,
     "metadata": {},
     "output_type": "execute_result"
    }
   ],
   "source": [
    "data.Height.corr(data.Weight)"
   ]
  },
  {
   "cell_type": "code",
   "execution_count": 5,
   "id": "20f95a23",
   "metadata": {},
   "outputs": [
    {
     "data": {
      "text/plain": [
       "0.7535418080977205"
      ]
     },
     "execution_count": 5,
     "metadata": {},
     "output_type": "execute_result"
    }
   ],
   "source": [
    "data.Height.corr(data.Weight, method=\"spearman\")"
   ]
  },
  {
   "cell_type": "code",
   "execution_count": 6,
   "id": "4d66a33a",
   "metadata": {},
   "outputs": [
    {
     "data": {
      "text/plain": [
       "(0.7413041988574969, 4.5627070950916043e-20)"
      ]
     },
     "execution_count": 6,
     "metadata": {},
     "output_type": "execute_result"
    }
   ],
   "source": [
    "stats.pearsonr(data['Height'], data['Weight'])"
   ]
  },
  {
   "cell_type": "code",
   "execution_count": 7,
   "id": "7800b982",
   "metadata": {},
   "outputs": [
    {
     "data": {
      "image/png": "[encoded data removed]",
      "text/plain": [
       "<Figure size 720x576 with 1 Axes>"
      ]
     },
     "metadata": {},
     "output_type": "display_data"
    }
   ],
   "source": [
    "plt.figure(figsize=(10,8))\n",
    "sns.scatterplot(data=data, x='Height', y=\"Weight\")\n",
    "plt.show()"
   ]
  },
  {
   "cell_type": "code",
   "execution_count": 8,
   "id": "27de74ae",
   "metadata": {},
   "outputs": [
    {
     "data": {
      "image/png": "[encoded data removed]",
      "text/plain": [
       "<Figure size 720x576 with 1 Axes>"
      ]
     },
     "metadata": {},
     "output_type": "display_data"
    }
   ],
   "source": [
    "plt.figure(figsize=(10,8))\n",
    "sns.regplot(data=data, x='Height', y=\"Weight\")\n",
    "plt.show()"
   ]
  },
  {
   "cell_type": "code",
   "execution_count": 9,
   "id": "c3422385",
   "metadata": {},
   "outputs": [
    {
     "data": {
      "text/plain": [
       "LeveneResult(statistic=135.08608012666895, pvalue=1.5839821691245638e-24)"
      ]
     },
     "execution_count": 9,
     "metadata": {},
     "output_type": "execute_result"
    }
   ],
   "source": [
    "stats.levene(data['Height'], data['Weight'])"
   ]
  },
  {
   "cell_type": "code",
   "execution_count": 11,
   "id": "9dc84b52",
   "metadata": {},
   "outputs": [
    {
     "name": "stdout",
     "output_type": "stream",
     "text": [
      "stat=135.08608012666895, p-value=1.5839821691245638e-24\n",
      "The variances are not equal between two groups(reject H0, significant)\n"
     ]
    }
   ],
   "source": [
    "stat, p,  = stats.levene(data['Height'], data['Weight'])\n",
    "print(f'stat={stat}, p-value={p}')\n",
    "alpha = 0.05 \n",
    "if p > alpha:\n",
    "    print('The variances are equal between two groups(reject H0, not significant)')\n",
    "else:\n",
    "    print('The variances are not equal between two groups(reject H0, significant)')"
   ]
  },
  {
   "cell_type": "code",
   "execution_count": null,
   "id": "bcc73639",
   "metadata": {},
   "outputs": [],
   "source": [
    "stats.pearsonr(data['Height'], data['Weight'])"
   ]
  },
  {
   "cell_type": "code",
   "execution_count": 12,
   "id": "7f7fc3f4",
   "metadata": {},
   "outputs": [
    {
     "name": "stdout",
     "output_type": "stream",
     "text": [
      "stat=0.7413041988574969, p-value=4.5627070950916043e-20\n",
      "There is a no relationship between two variables(reject H0, significant)\n"
     ]
    }
   ],
   "source": [
    "stat, p,  = stats.pearsonr(data['Height'], data['Weight'])\n",
    "print(f'stat={stat}, p-value={p}')\n",
    "alpha = 0.05 \n",
    "if p > alpha:\n",
    "    print('There is a relationship between two variables(fail to reject H0, not significant)')\n",
    "else:\n",
    "    print('There is a no relationship between two variables(reject H0, significant)')"
   ]
  },
  {
   "cell_type": "markdown",
   "id": "c4b2e94e",
   "metadata": {},
   "source": [
    "## Spearman’s Rank Correlation Test \n",
    "Tests whether two samples have a monotonic relationship.\n",
    "\n",
    "### Assumptions\n",
    "- Observations in each sample are independent and identically distributed (iid).\n",
    "- Observations in each sample can be ranked.\n",
    "\n",
    "\n",
    "\n",
    "### Interpretation\n",
    "- **H0 hypothesis:** There is is relationship between variable 1 and variable 2\n",
    "- **H1 hypothesis:** There is no relationship between variable 1 and variable 2\n"
   ]
  },
  {
   "cell_type": "code",
   "execution_count": null,
   "id": "9ee6f133",
   "metadata": {},
   "outputs": [],
   "source": [
    "stats.spearmanr(data['Height'], data['Weight'])"
   ]
  },
  {
   "cell_type": "code",
   "execution_count": null,
   "id": "54e7c3d9",
   "metadata": {},
   "outputs": [],
   "source": [
    "stat, p,  = stats.spearmanr(data['Height'], data['Weight'])\n",
    "print(f'stat={stat}, p-value={p}')\n",
    "alpha = 0.05 \n",
    "if p > alpha:\n",
    "    print('There is a relationship between two variables(fail to reject H0, not significant)')\n",
    "else:\n",
    "    print('There is a no relationship between two variables(reject H0, significant)')"
   ]
  },
  {
   "cell_type": "markdown",
   "id": "5980fc85",
   "metadata": {},
   "source": [
    "## Kendall’s Rank Correlation Test \n",
    "\n",
    "### Assumptions\n",
    "\n",
    "- Observations in each sample are independent and identically distributed (iid).\n",
    "- Observations in each sample can be ranked.\n",
    "\n",
    "### Interpretation\n",
    "\n",
    "\n",
    "### Interpretation\n",
    "- **H0 hypothesis:** There is a relationship between variable 1 and variable 2\n",
    "- **H1 hypothesis:** There is no relationship between variable 1 and variable 2"
   ]
  },
  {
   "cell_type": "code",
   "execution_count": null,
   "id": "500f5a7d",
   "metadata": {},
   "outputs": [],
   "source": [
    "stats.spearmanr(data['Height'], data['Weight'])"
   ]
  },
  {
   "cell_type": "code",
   "execution_count": 13,
   "id": "db9cab11",
   "metadata": {},
   "outputs": [
    {
     "name": "stdout",
     "output_type": "stream",
     "text": [
      "stat=0.57668142211864, p-value=7.200475725682383e-18\n",
      "Reject the null hypothesis; there is no relationship between Height and Weight (significant)\n"
     ]
    }
   ],
   "source": [
    "stat, p,  = stats.kendalltau(data['Height'], data['Weight'])\n",
    "print(f'stat={stat}, p-value={p}')\n",
    "alpha = 0.05 \n",
    "if p > alpha:\n",
    "    print('Accept null hypothesis; there is a relationship between Height and Weight(fail to reject H0, not significant)')\n",
    "else:\n",
    "    print('Reject the null hypothesis; there is no relationship between Height and Weight (reject H0, significant)')"
   ]
  },
  {
   "cell_type": "markdown",
   "id": "4401772b",
   "metadata": {},
   "source": [
    "## Chi-Squared Test\n",
    "- The Chi-square test of independence tests if there is a significant relationship between two categorical variables\n",
    "- The test is comparing the observed observations to the expected observations.\n",
    "- The data is usually displayed in a cross-tabulation format with each row representing a category for one variable and each column representing a category for another variable.\n",
    "- Chi-square test of independence is an omnibus test. Meaning it tests the data as a whole. This means that one will not be able to tell which levels (categories) of the variables are responsible for the relationship if the Chi-square table is larger than 2×2\n",
    "-  If the test is larger than 2×2, it requires post hoc testing. If this doesn’t make much sense right now, don’t worry. Further explanation will be provided when we start working with the data.\n",
    "\n",
    "### Assumptions\n",
    "- It should be two categorical variables(e.g; Gender)\n",
    "- Each variables should have at leats two groups(e.g; Gender = Female or Male)\n",
    "- There should be independence of observations(between and within subjects)\n",
    "- Large sample size \n",
    "  - The expected frequencies should be at least 1 for each cell. \n",
    "  - The expected frequencies for the majority(80%) of the cells should be at least 5.\n",
    "  \n",
    "If the sample size is small, we have to use **Fisher's Exact Test**\n",
    "\n",
    "**Fisher's Exact Test** is similar to Chi-squared test, but it is used for small-sized samples.\n",
    "\n",
    "## Interpretation \n",
    "- The H0 (Null Hypothesis): There is a relationship between variable one and variable two.\n",
    "- The Ha (Alternative Hypothesis): There is no relationship between variable 1 and variable 2."
   ]
  },
  {
   "cell_type": "markdown",
   "id": "426091a4",
   "metadata": {},
   "source": [
    "### Contingency Table\n",
    "Contingency table is a table with at least two rows and two columns(2x2) and its use to present categorical data in terms of frequency counts."
   ]
  },
  {
   "cell_type": "code",
   "execution_count": null,
   "id": "9b3bc8b4",
   "metadata": {},
   "outputs": [],
   "source": [
    "data = pd.read_csv('../data/KosteckiDillon.csv', usecols=['id', 'time', 'dos', 'hatype', 'age', 'airq',\n",
    "       'medication', 'headache', 'sex'])\n",
    "data.head() "
   ]
  },
  {
   "cell_type": "code",
   "execution_count": null,
   "id": "2dc232b0",
   "metadata": {},
   "outputs": [],
   "source": [
    "table = pd.crosstab(data['sex'], data['headache'])\n",
    "table"
   ]
  },
  {
   "cell_type": "code",
   "execution_count": null,
   "id": "8cd82377",
   "metadata": {},
   "outputs": [],
   "source": [
    "stats.chi2_contingency(table)"
   ]
  },
  {
   "cell_type": "code",
   "execution_count": null,
   "id": "9c482753",
   "metadata": {},
   "outputs": [],
   "source": [
    "stat, p, dof, expected = stats.chi2_contingency(table)\n",
    "print(f'stat={stat}, p-value={p}') \n",
    "if p > 0.05:\n",
    "    print('There is a relationship between sex andheadache(fail to reject Ho, not significant)')\n",
    "else:\n",
    "    print('There is no relationship between sex  and headache.(reject H0, significant)')"
   ]
  },
  {
   "cell_type": "markdown",
   "id": "bc7f910c",
   "metadata": {},
   "source": [
    "## Fisher’s Test"
   ]
  },
  {
   "cell_type": "code",
   "execution_count": null,
   "id": "cbd5538e",
   "metadata": {},
   "outputs": [],
   "source": [
    "stat, p,  = stats.fisher_exact(table)\n",
    "print(f'stat={stat}, p-value={p}') \n",
    "if p > 0.05:\n",
    "    print('Probably independent')\n",
    "else:\n",
    "    print('Probably dependent')"
   ]
  }
 ],
 "metadata": {
  "kernelspec": {
   "display_name": "Python 3",
   "language": "python",
   "name": "python3"
  },
  "language_info": {
   "codemirror_mode": {
    "name": "ipython",
    "version": 3
   },
   "file_extension": ".py",
   "mimetype": "text/x-python",
   "name": "python",
   "nbconvert_exporter": "python",
   "pygments_lexer": "ipython3",
   "version": "3.8.3"
  },
  "latex_envs": {
   "LaTeX_envs_menu_present": true,
   "autoclose": false,
   "autocomplete": true,
   "bibliofile": "biblio.bib",
   "cite_by": "apalike",
   "current_citInitial": 1,
   "eqLabelWithNumbers": true,
   "eqNumInitial": 1,
   "hotkeys": {
    "equation": "Ctrl-E",
    "itemize": "Ctrl-I"
   },
   "labels_anchors": false,
   "latex_user_defs": false,
   "report_style_numbering": false,
   "user_envs_cfg": false
  }
 },
 "nbformat": 4,
 "nbformat_minor": 5
}
