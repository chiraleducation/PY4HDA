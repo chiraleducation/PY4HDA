{
 "cells": [
  {
   "cell_type": "markdown",
   "metadata": {},
   "source": [
    "# Introduction to Hypothesis Testing"
   ]
  },
  {
   "cell_type": "code",
   "execution_count": 1,
   "metadata": {},
   "outputs": [],
   "source": [
    "import pandas as pd \n",
    "import numpy as np \n",
    "import matplotlib.pyplot as plt \n",
    "import seaborn as sns \n",
    "sns.set(font_scale=2, palette= \"viridis\")\n",
    "import researchpy as rp "
   ]
  },
  {
   "cell_type": "markdown",
   "metadata": {},
   "source": [
    "![](../img/population_sample.png)"
   ]
  },
  {
   "cell_type": "code",
   "execution_count": 2,
   "metadata": {},
   "outputs": [
    {
     "data": {
      "text/html": [
       "<div>\n",
       "<style scoped>\n",
       "    .dataframe tbody tr th:only-of-type {\n",
       "        vertical-align: middle;\n",
       "    }\n",
       "\n",
       "    .dataframe tbody tr th {\n",
       "        vertical-align: top;\n",
       "    }\n",
       "\n",
       "    .dataframe thead th {\n",
       "        text-align: right;\n",
       "    }\n",
       "</style>\n",
       "<table border=\"1\" class=\"dataframe\">\n",
       "  <thead>\n",
       "    <tr style=\"text-align: right;\">\n",
       "      <th></th>\n",
       "      <th>Height</th>\n",
       "      <th>Weight</th>\n",
       "      <th>Age</th>\n",
       "      <th>Gender</th>\n",
       "      <th>Smokes</th>\n",
       "      <th>Alcohol</th>\n",
       "      <th>Exercise</th>\n",
       "      <th>Ran</th>\n",
       "      <th>Pulse1</th>\n",
       "      <th>Pulse2</th>\n",
       "      <th>BMI</th>\n",
       "      <th>BMICat</th>\n",
       "    </tr>\n",
       "  </thead>\n",
       "  <tbody>\n",
       "    <tr>\n",
       "      <th>0</th>\n",
       "      <td>1.73</td>\n",
       "      <td>57.0</td>\n",
       "      <td>18</td>\n",
       "      <td>Female</td>\n",
       "      <td>No</td>\n",
       "      <td>Yes</td>\n",
       "      <td>Moderate</td>\n",
       "      <td>No</td>\n",
       "      <td>86.0</td>\n",
       "      <td>88.0</td>\n",
       "      <td>19.045073</td>\n",
       "      <td>Underweight</td>\n",
       "    </tr>\n",
       "    <tr>\n",
       "      <th>1</th>\n",
       "      <td>1.79</td>\n",
       "      <td>58.0</td>\n",
       "      <td>19</td>\n",
       "      <td>Female</td>\n",
       "      <td>No</td>\n",
       "      <td>Yes</td>\n",
       "      <td>Moderate</td>\n",
       "      <td>Yes</td>\n",
       "      <td>82.0</td>\n",
       "      <td>150.0</td>\n",
       "      <td>18.101807</td>\n",
       "      <td>Underweight</td>\n",
       "    </tr>\n",
       "    <tr>\n",
       "      <th>2</th>\n",
       "      <td>1.67</td>\n",
       "      <td>62.0</td>\n",
       "      <td>18</td>\n",
       "      <td>Female</td>\n",
       "      <td>No</td>\n",
       "      <td>Yes</td>\n",
       "      <td>High</td>\n",
       "      <td>Yes</td>\n",
       "      <td>96.0</td>\n",
       "      <td>176.0</td>\n",
       "      <td>22.230987</td>\n",
       "      <td>Normal</td>\n",
       "    </tr>\n",
       "    <tr>\n",
       "      <th>3</th>\n",
       "      <td>1.95</td>\n",
       "      <td>84.0</td>\n",
       "      <td>18</td>\n",
       "      <td>Male</td>\n",
       "      <td>No</td>\n",
       "      <td>Yes</td>\n",
       "      <td>High</td>\n",
       "      <td>No</td>\n",
       "      <td>71.0</td>\n",
       "      <td>73.0</td>\n",
       "      <td>22.090730</td>\n",
       "      <td>Normal</td>\n",
       "    </tr>\n",
       "    <tr>\n",
       "      <th>4</th>\n",
       "      <td>1.73</td>\n",
       "      <td>64.0</td>\n",
       "      <td>18</td>\n",
       "      <td>Female</td>\n",
       "      <td>No</td>\n",
       "      <td>Yes</td>\n",
       "      <td>Low</td>\n",
       "      <td>No</td>\n",
       "      <td>90.0</td>\n",
       "      <td>88.0</td>\n",
       "      <td>21.383942</td>\n",
       "      <td>Normal</td>\n",
       "    </tr>\n",
       "  </tbody>\n",
       "</table>\n",
       "</div>"
      ],
      "text/plain": [
       "   Height  Weight  Age  Gender Smokes Alcohol  Exercise  Ran  Pulse1  Pulse2  \\\n",
       "0    1.73    57.0   18  Female     No     Yes  Moderate   No    86.0    88.0   \n",
       "1    1.79    58.0   19  Female     No     Yes  Moderate  Yes    82.0   150.0   \n",
       "2    1.67    62.0   18  Female     No     Yes      High  Yes    96.0   176.0   \n",
       "3    1.95    84.0   18    Male     No     Yes      High   No    71.0    73.0   \n",
       "4    1.73    64.0   18  Female     No     Yes       Low   No    90.0    88.0   \n",
       "\n",
       "         BMI       BMICat  \n",
       "0  19.045073  Underweight  \n",
       "1  18.101807  Underweight  \n",
       "2  22.230987       Normal  \n",
       "3  22.090730       Normal  \n",
       "4  21.383942       Normal  "
      ]
     },
     "execution_count": 2,
     "metadata": {},
     "output_type": "execute_result"
    }
   ],
   "source": [
    "data = pd.read_csv('../data/pulse_data.csv')\n",
    "data.head() "
   ]
  },
  {
   "cell_type": "markdown",
   "metadata": {},
   "source": [
    "## Inspecting Variables "
   ]
  },
  {
   "cell_type": "code",
   "execution_count": 3,
   "metadata": {},
   "outputs": [
    {
     "name": "stdout",
     "output_type": "stream",
     "text": [
      "<class 'pandas.core.frame.DataFrame'>\n",
      "RangeIndex: 108 entries, 0 to 107\n",
      "Data columns (total 12 columns):\n",
      " #   Column    Non-Null Count  Dtype  \n",
      "---  ------    --------------  -----  \n",
      " 0   Height    108 non-null    float64\n",
      " 1   Weight    108 non-null    float64\n",
      " 2   Age       108 non-null    int64  \n",
      " 3   Gender    108 non-null    object \n",
      " 4   Smokes    108 non-null    object \n",
      " 5   Alcohol   108 non-null    object \n",
      " 6   Exercise  108 non-null    object \n",
      " 7   Ran       108 non-null    object \n",
      " 8   Pulse1    107 non-null    float64\n",
      " 9   Pulse2    107 non-null    float64\n",
      " 10  BMI       108 non-null    float64\n",
      " 11  BMICat    108 non-null    object \n",
      "dtypes: float64(5), int64(1), object(6)\n",
      "memory usage: 10.2+ KB\n"
     ]
    }
   ],
   "source": [
    "data.info() "
   ]
  },
  {
   "cell_type": "markdown",
   "metadata": {},
   "source": [
    "## Summarize and Visualize Data "
   ]
  },
  {
   "cell_type": "code",
   "execution_count": null,
   "metadata": {},
   "outputs": [],
   "source": [
    "# summary stats of numerical variables \n",
    "data.describe() "
   ]
  },
  {
   "cell_type": "code",
   "execution_count": null,
   "metadata": {},
   "outputs": [],
   "source": [
    "# summary stats of numerical variables \n",
    "rp.summary_cat(data[['Gender', 'Smokes', 'Alcohol', 'Exercise','Ran','BMICat']])"
   ]
  },
  {
   "cell_type": "markdown",
   "metadata": {},
   "source": [
    "## One Categorical Variable \n",
    "__Questions: Is there any difference in the number of men and women?__"
   ]
  },
  {
   "cell_type": "code",
   "execution_count": null,
   "metadata": {},
   "outputs": [],
   "source": [
    "data.Gender.value_counts() "
   ]
  },
  {
   "cell_type": "code",
   "execution_count": null,
   "metadata": {},
   "outputs": [],
   "source": [
    "plt.figure(figsize=(10,8))\n",
    "sns.countplot(data=data, x='Gender')\n",
    "plt.show()"
   ]
  },
  {
   "cell_type": "markdown",
   "metadata": {},
   "source": [
    "## One Numeric Variable \n",
    "__Question: Is the average height different from a established height?__"
   ]
  },
  {
   "cell_type": "code",
   "execution_count": null,
   "metadata": {},
   "outputs": [],
   "source": [
    "data.Height.head() "
   ]
  },
  {
   "cell_type": "code",
   "execution_count": null,
   "metadata": {},
   "outputs": [],
   "source": [
    "data.Height.describe() "
   ]
  },
  {
   "cell_type": "code",
   "execution_count": null,
   "metadata": {},
   "outputs": [],
   "source": [
    "plt.figure(figsize=(10,8))\n",
    "sns.boxplot(data=data, x='Height')\n",
    "plt.show()"
   ]
  },
  {
   "cell_type": "markdown",
   "metadata": {},
   "source": [
    "## Two Categorical Variables(C-C)\n",
    "__Question: Does the porportion of men and women differ across the BMI Category?__"
   ]
  },
  {
   "cell_type": "code",
   "execution_count": null,
   "metadata": {
    "scrolled": true
   },
   "outputs": [],
   "source": [
    "pd.crosstab(data['Gender'], data['BMICat'])"
   ]
  },
  {
   "cell_type": "code",
   "execution_count": null,
   "metadata": {},
   "outputs": [],
   "source": [
    "pd.crosstab(data['Gender'], data['BMICat'], normalize=True)"
   ]
  },
  {
   "cell_type": "code",
   "execution_count": null,
   "metadata": {},
   "outputs": [],
   "source": [
    "plt.figure(figsize=(10,8))\n",
    "sns.countplot(data=data, x='BMICat', hue='Gender')\n",
    "plt.show()"
   ]
  },
  {
   "cell_type": "markdown",
   "metadata": {},
   "source": [
    "## One Quantitative and One Categorical Variables(Q-C)\n",
    "__Question: Is there a difference in the height between men and women?__\n"
   ]
  },
  {
   "cell_type": "code",
   "execution_count": null,
   "metadata": {},
   "outputs": [],
   "source": [
    "data.groupby('Gender')['Height'].mean() "
   ]
  },
  {
   "cell_type": "code",
   "execution_count": null,
   "metadata": {},
   "outputs": [],
   "source": [
    "plt.figure(figsize=(10,8))\n",
    "sns.boxplot(data=data, x='Height', y=\"Gender\")\n",
    "plt.show()"
   ]
  },
  {
   "cell_type": "markdown",
   "metadata": {},
   "source": [
    "## Two Quantitative Variables(Q-Q) \n",
    "__Question: Is there any relationship between height and weight?__"
   ]
  },
  {
   "cell_type": "code",
   "execution_count": null,
   "metadata": {},
   "outputs": [],
   "source": [
    "data.Height.corr(data.Weight)"
   ]
  },
  {
   "cell_type": "code",
   "execution_count": null,
   "metadata": {},
   "outputs": [],
   "source": [
    "plt.figure(figsize=(10,8))\n",
    "sns.scatterplot(data=data, x='Height', y=\"Weight\")\n",
    "plt.show()"
   ]
  },
  {
   "cell_type": "code",
   "execution_count": null,
   "metadata": {},
   "outputs": [],
   "source": [
    "plt.figure(figsize=(10,8))\n",
    "sns.regplot(data=data, x='Height', y=\"Weight\", p)\n",
    "plt.show()"
   ]
  },
  {
   "cell_type": "markdown",
   "metadata": {},
   "source": [
    "## What is Inferential Statistics \n",
    "Assess the strength of evidence for/against a hypothesis; evaluate the data\n",
    "\n",
    "- Inferential statistical methods provide a confirmatory data analysis.\n",
    "    - Generalize conclusions from data from part of a group (sample) to the whole group (population)\n",
    "    - Assess the strength of the evidence\n",
    "    - Make comparisons\n",
    "    - Make predictions\n",
    "Inferential statistical methods divide into 2 categories.\n",
    "\n",
    "- **Hypothesis Testing:** Hypothesis testing is a formal procedure for investigating our ideas about the world using statistics. It is most often used by scientists to test specific predictions, called hypotheses, that arise from theories.\n",
    "\n",
    "- **Model Fitting:** Model fitting is a measure of how well a statistical learning model generalizes to similar data to that on which it was trained. A model that is well-fitted produces more accurate outcomes."
   ]
  },
  {
   "cell_type": "markdown",
   "metadata": {},
   "source": [
    "## What is Inference?\n",
    "The process of drawing conclusions about population parameters based on a sample taken from the population.\n",
    "\n",
    "- A sample is likely to be a good representation of the population.\n",
    "- There is an element of uncertainty as to how well the sample represents the population.\n",
    "- The way the sample is taken matters."
   ]
  },
  {
   "cell_type": "markdown",
   "metadata": {},
   "source": [
    "## What is Hypothesis?\n",
    "- Proposed explanation for a phenomenon.\n",
    "- A hypothesis is an educated guess about something in the world around you. It should be testable, either by experiment or observation. \n",
    "\n",
    "- Proposed explanation\n",
    "- Objectively testable \n",
    "- Singular - hypothesis\n",
    "- Plural - hypotheses\n",
    "\n",
    "__Examples__\n",
    "\n",
    "- A new medicine you think might work.\n",
    "- A way of teaching you think might be better.\n",
    "- A possible location of new species.\n",
    "\n",
    "\n"
   ]
  },
  {
   "cell_type": "markdown",
   "metadata": {},
   "source": [
    "## Hypothesis and Study Design\n",
    "- **Hypothesis:**  seat belts decreases the fatality rate \n",
    "- **Study design:** cross-sectional study of fatality outcome and seat-belt use of victims of motor vehicle accidents during a one-month time period in a large city"
   ]
  },
  {
   "cell_type": "markdown",
   "metadata": {},
   "source": [
    "![](../img/seat_belt.png)"
   ]
  },
  {
   "cell_type": "markdown",
   "metadata": {},
   "source": [
    "## Effect of Seat Belt Use on Accident Fatality\n",
    "What is your conclusion?\n",
    "- The fatality rate is:\n",
    "    - 40% in the group of drivers who did not wear seat belts\n",
    "    - 20% in drivers who did wear seat belts\n",
    "\n",
    "- Seat belts appear to save lives"
   ]
  },
  {
   "cell_type": "markdown",
   "metadata": {},
   "source": [
    "## The Inferential Questions of Interest\n",
    "- The inferential questions of interest are:\n",
    "    - Are results applicable to the population of all drivers?\n",
    "      (generalization)\n",
    "    - Does wearing seat belts decreases fatality rate? (assess strength of evidence)\n",
    "- Is the fatality rate of those not wearing seat belts higher than the fatality rate of those wearing seat belts? (comparison)\n",
    "- How many lives can be saved by wearing seat belts? (prediction)\n",
    "- Do other variables influence the conclusion?\n",
    "    - For example: the age of driver, alcohol use, type of car, speed at impact (ask more questions)"
   ]
  },
  {
   "cell_type": "markdown",
   "metadata": {},
   "source": [
    "## Speed at Impact"
   ]
  },
  {
   "cell_type": "markdown",
   "metadata": {},
   "source": [
    "![](../img/seat_belt2.png)"
   ]
  },
  {
   "cell_type": "markdown",
   "metadata": {},
   "source": [
    "## How Does This Influence Your Conclusion?\n",
    "- How does this influence your conclusion?\n",
    "    - The fatality rate is 10% at low-impact speeds regardless of seat-belt use\n",
    "\n",
    "- The fatality rate at high impact speeds is:\n",
    "    -  60% in drivers not wearing seat belts\n",
    "    -  35% in drivers wearing seat belts"
   ]
  },
  {
   "cell_type": "markdown",
   "metadata": {},
   "source": [
    "## Null and Alternative Hypothesis\n",
    "- **Hypothesis 0 (H0):** Assumption of the test holds and is failed to be rejected at some level of significance.\n",
    "- **Hypothesis 1 (Ha):** Assumption of the test does not hold and is rejected at some level of significance."
   ]
  },
  {
   "cell_type": "markdown",
   "metadata": {},
   "source": [
    "## Errors in Statistical Tests\n",
    "- **Type I Error:** The incorrect rejection of a true null hypothesis or a false positive.\n",
    "- **Type II Error:** The incorrect failure of rejection of a false null hypothesis or a false negative.\n",
    "\n",
    "![imgaes](../img/errors.png)"
   ]
  },
  {
   "cell_type": "markdown",
   "metadata": {},
   "source": [
    "## Alpha($\\alpha$)\n",
    "- $\\alpha$ is probability of rejecting H0 when H0 is true. \n",
    "- $\\alpha$ = Probability of Type-I error. \n",
    "- Ranges from 0 to 1\n",
    "- **High α is not good**"
   ]
  },
  {
   "cell_type": "markdown",
   "metadata": {},
   "source": [
    "## p-value\n",
    "In statistics, the p-value is the probability of obtaining results at least as extreme as the observed results of a statistical hypothesis test, assuming that the null hypothesis is correct. \n",
    "\n",
    "generally cut off value of alpha 0\n",
    "- If p-value > alpha: Fail to reject the null hypothesis (i.e. not significant result).\n",
    "- If p-value <= alpha: Reject the null hypothesis (i.e. significant result)."
   ]
  },
  {
   "cell_type": "markdown",
   "metadata": {},
   "source": [
    "## Hypothesis Testing Process "
   ]
  },
  {
   "cell_type": "markdown",
   "metadata": {},
   "source": [
    "- **Step-1:** Null Hypothesis H0\n",
    "    - True until proven false\n",
    "    - Usually posits no relationship\n",
    "\n",
    "- **Step-2:** Select Test\n",
    "    - Pick from vast library\n",
    "    - Know which one to choose\n",
    "\n",
    "- **Step-3:** Significance Level\n",
    "    - Usually 1% or 5%\n",
    "    - What threshold for luck?\n",
    "\n",
    "- **Step-4:** Alternative Hypothesis\n",
    "    - Negation of null hypothesis\n",
    "    - Usually asserts specific relationship\n",
    "    \n",
    "- **Step-5:** Test Statistic\n",
    "    - Convert to p-value\n",
    "    - How likely it was just luck?\n",
    "\n",
    "\n",
    "- **Step-6:** Accept or Reject\n",
    "    - Small p-value? Reject H0 \n",
    "    - Small: Below significance level \n",
    "\n",
    "![images](../img/hypothesis.png)"
   ]
  },
  {
   "cell_type": "markdown",
   "metadata": {},
   "source": [
    "# Common Statistical Tests\n",
    "### Variable Distribution Type Tests (Gaussian)\n",
    "- Shapiro-Wilk Test\n",
    "- D’Agostino’s K^2 Test\n",
    "- Anderson-Darling Test\n",
    "\n",
    "### Variable Relationship Tests (correlation)\n",
    "- Pearson’s Correlation Coefficient\n",
    "- Spearman’s Rank Correlation\n",
    "- Kendall’s Rank Correlation\n",
    "- Chi-Squared Test\n",
    "\n",
    "### Compare Sample Means (parametric)\n",
    "- Student’s t-test\n",
    "- Paired Student’s t-test\n",
    "- Analysis of Variance Test (ANOVA)\n",
    "- Repeated Measures ANOVA Test\n",
    "\n",
    "### Compare Sample Means (nonparametric)\n",
    "- Mann-Whitney U Test\n",
    "- Wilcoxon Signed-Rank Test\n",
    "- Kruskal-Wallis H Test\n",
    "- Friedman Test"
   ]
  },
  {
   "cell_type": "markdown",
   "metadata": {},
   "source": [
    "## Statistical Test Selection \n",
    "What we observe in our sample data | Is it real?(statistical test)|\n",
    "----------|------|\n",
    "1 categorical variable| 1 sample proportion test\n",
    "2 categorical variables | chi squared test\n",
    "1 numeric variable | t-test\n",
    "1 numeric and 1 categorical variable | t-test or ANOVA\n",
    "more than 2 categorical variables | ANOVA\n",
    "2 numeric variables | correlation test"
   ]
  },
  {
   "cell_type": "markdown",
   "metadata": {},
   "source": [
    "## References\n",
    "- https://machinelearningmastery.com/statistical-hypothesis-tests/\n",
    "- https://www.statisticshowto.com/probability-and-statistics/hypothesis-testing/"
   ]
  }
 ],
 "metadata": {
  "kernelspec": {
   "display_name": "Python 3",
   "language": "python",
   "name": "python3"
  },
  "language_info": {
   "codemirror_mode": {
    "name": "ipython",
    "version": 3
   },
   "file_extension": ".py",
   "mimetype": "text/x-python",
   "name": "python",
   "nbconvert_exporter": "python",
   "pygments_lexer": "ipython3",
   "version": "3.8.3"
  },
  "latex_envs": {
   "LaTeX_envs_menu_present": true,
   "autoclose": false,
   "autocomplete": true,
   "bibliofile": "biblio.bib",
   "cite_by": "apalike",
   "current_citInitial": 1,
   "eqLabelWithNumbers": true,
   "eqNumInitial": 1,
   "hotkeys": {
    "equation": "Ctrl-E",
    "itemize": "Ctrl-I"
   },
   "labels_anchors": false,
   "latex_user_defs": false,
   "report_style_numbering": false,
   "user_envs_cfg": false
  }
 },
 "nbformat": 4,
 "nbformat_minor": 4
}
