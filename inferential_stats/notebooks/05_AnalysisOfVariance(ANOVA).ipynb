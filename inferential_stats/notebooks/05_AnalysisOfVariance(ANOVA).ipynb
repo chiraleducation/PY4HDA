{
 "cells": [
  {
   "cell_type": "markdown",
   "id": "40f209af",
   "metadata": {},
   "source": [
    "# Analysis of Variance(ANOVA) "
   ]
  },
  {
   "cell_type": "markdown",
   "id": "0380af46",
   "metadata": {},
   "source": [
    "## ANOVA - Analysis of Variance\n",
    "- Compares the means of 3(+) groups of data.\n",
    "- Used to study if there is **statistical difference** between 3(+) group of data. \n",
    "- Assumes the data are **normally distributed** and have **equal variances**\n",
    "\n",
    "### One-way ANOVA\n",
    "- Compares the mean of 3(+) groups of data considering **one independent** variable or factor.\n",
    "- Within each group there should be at least three observations.\n",
    "\n",
    "## Two-way ANOVA\n",
    "- Compares the means of 3(+) groups of data considering two independent variables or factors. \n",
    "\n",
    "### Assumptions\n",
    "\n",
    "- Observations in each sample are independent and identically distributed (iid).\n",
    "- Observations in each sample are normally distributed.\n",
    "- Observations in each sample have the same variance.\n",
    "\n",
    "### Interpretation\n",
    "\n",
    "- H0: the means of the samples are equal.\n",
    "- Ha: one or more of the means of the samples are unequal.\n"
   ]
  },
  {
   "cell_type": "code",
   "execution_count": null,
   "id": "b595b7f6",
   "metadata": {},
   "outputs": [],
   "source": [
    "import pandas as pd \n",
    "import numpy as np \n",
    "import matplotlib.pyplot as plt \n",
    "import seaborn as sns \n",
    "from scipy import stats\n",
    "sns.set(font_scale=2, palette= \"viridis\")\n",
    "import researchpy as rp "
   ]
  },
  {
   "cell_type": "code",
   "execution_count": null,
   "id": "2c6d799e",
   "metadata": {},
   "outputs": [],
   "source": [
    "data = pd.read_csv('../data/pulse_data.csv')\n",
    "data.head() "
   ]
  },
  {
   "cell_type": "code",
   "execution_count": null,
   "id": "7a8d1d2d",
   "metadata": {},
   "outputs": [],
   "source": [
    "data.shape"
   ]
  },
  {
   "cell_type": "code",
   "execution_count": null,
   "id": "5ce7a3ad",
   "metadata": {},
   "outputs": [],
   "source": [
    "data['Exercise'].unique()"
   ]
  },
  {
   "cell_type": "code",
   "execution_count": null,
   "id": "1774da67",
   "metadata": {},
   "outputs": [],
   "source": [
    "data.groupby('Exercise')['Pulse1'].describe().T"
   ]
  },
  {
   "cell_type": "code",
   "execution_count": null,
   "id": "0225585b",
   "metadata": {},
   "outputs": [],
   "source": [
    "plt.figure(figsize=(12,8))\n",
    "sns.boxplot(data=data, x='Exercise', y='Pulse1')\n",
    "plt.show() "
   ]
  },
  {
   "cell_type": "markdown",
   "id": "4e3f6c8e",
   "metadata": {},
   "source": [
    "### One-way  ANOVA with `scipy.stats`"
   ]
  },
  {
   "cell_type": "code",
   "execution_count": null,
   "id": "91742634",
   "metadata": {},
   "outputs": [],
   "source": [
    "stats.f_oneway(data['Height'][data['Exercise'] == 'Low'],\n",
    "               data['Height'][data['Exercise'] == 'Moderate'],\n",
    "               data['Height'][data['Exercise'] == 'High'])"
   ]
  },
  {
   "cell_type": "code",
   "execution_count": null,
   "id": "f7bc2995",
   "metadata": {},
   "outputs": [],
   "source": [
    "stat, p_value = stats.f_oneway(\n",
    "              data['Height'][data['Exercise'] == 'Low'],\n",
    "               data['Height'][data['Exercise'] == 'Moderate'],\n",
    "               data['Height'][data['Exercise'] == 'High'])\n",
    "\n",
    "print(f'statistic = {stat}, p-value = {p_value}')\n",
    "# interpret\n",
    "alpha = 0.05\n",
    "if p > alpha:\n",
    "    print('The means of the samples are equal.(fail to reject H0, not significant)')\n",
    "else:\n",
    "    print('The means of the samples are not equal(reject H0, significant)')"
   ]
  },
  {
   "cell_type": "code",
   "execution_count": null,
   "id": "10e749be",
   "metadata": {},
   "outputs": [],
   "source": [
    "import statsmodels.api as sm \n",
    "from statsmodels.formula.api import ols"
   ]
  },
  {
   "cell_type": "code",
   "execution_count": null,
   "id": "8436e354",
   "metadata": {},
   "outputs": [],
   "source": [
    "model = ols('Height ~ Exercise', data=data).fit()\n",
    "anova_result = sm.stats.anova_lm(model, typ=2)\n",
    "print(anova_result)"
   ]
  },
  {
   "cell_type": "markdown",
   "id": "004d9d5e",
   "metadata": {},
   "source": [
    "## Tukey's Honest Significance Difference\n",
    "The test finds out which specific group's means compared with each other different"
   ]
  },
  {
   "cell_type": "code",
   "execution_count": null,
   "id": "9f220def",
   "metadata": {},
   "outputs": [],
   "source": [
    "from statsmodels.stats.multicomp import MultiComparison \n",
    "mul_com = MultiComparison(data['Height'], data['Exercise'])\n",
    "mul_result = mul_com.tukeyhsd()\n",
    "print(mul_result)"
   ]
  },
  {
   "cell_type": "code",
   "execution_count": null,
   "id": "266a9d9a",
   "metadata": {},
   "outputs": [],
   "source": [
    "from statsmodels.stats.multicomp import pairwise_tukeyhsd \n",
    "tukey = pairwise_tukeyhsd(data['Height'], data['Exercise'], alpha=0.05)\n",
    "# print summary \n",
    "tukey.summary()"
   ]
  },
  {
   "cell_type": "code",
   "execution_count": null,
   "id": "51dddee4",
   "metadata": {},
   "outputs": [],
   "source": [
    "# plot \n",
    "tukey.plot_simultaneous()\n",
    "plt.vlines(x = 20, ymin=0.5, ymax=4.5)\n",
    "plt.show() "
   ]
  },
  {
   "cell_type": "markdown",
   "id": "5ff835a2",
   "metadata": {},
   "source": [
    "### Two-way ANOVA with `statsmodels`\n",
    "https://www.statsmodels.org/stable/examples/notebooks/generated/interactions_anova.html"
   ]
  },
  {
   "cell_type": "code",
   "execution_count": null,
   "id": "99458f42",
   "metadata": {},
   "outputs": [],
   "source": [
    "rp.summary_cont(data.groupby('Exercise'))['Pulse1']"
   ]
  },
  {
   "cell_type": "code",
   "execution_count": null,
   "id": "95ceab30",
   "metadata": {},
   "outputs": [],
   "source": [
    "plt.figure(figsize=(12,8))\n",
    "sns.boxplot(data=data, x='Exercise', y = 'Pulse1')\n",
    "plt.show() "
   ]
  },
  {
   "cell_type": "code",
   "execution_count": null,
   "id": "34cb19b4",
   "metadata": {},
   "outputs": [],
   "source": [
    "rp.summary_cont(data.groupby('Exercise'))['Pulse2']"
   ]
  },
  {
   "cell_type": "code",
   "execution_count": null,
   "id": "ed32609d",
   "metadata": {},
   "outputs": [],
   "source": [
    "plt.figure(figsize=(12,8))\n",
    "sns.boxplot(data=data, x='Exercise', y = 'Pulse2')\n",
    "plt.show() "
   ]
  },
  {
   "cell_type": "code",
   "execution_count": null,
   "id": "fd20a76c",
   "metadata": {},
   "outputs": [],
   "source": [
    "model = ols('Pulse1 ~C(Exercise) + C(BMICat)', data=data).fit()\n",
    "anova_result = sm.stats.anova_lm(model)\n",
    "print(anova_result)"
   ]
  }
 ],
 "metadata": {
  "kernelspec": {
   "display_name": "Python 3",
   "language": "python",
   "name": "python3"
  },
  "language_info": {
   "codemirror_mode": {
    "name": "ipython",
    "version": 3
   },
   "file_extension": ".py",
   "mimetype": "text/x-python",
   "name": "python",
   "nbconvert_exporter": "python",
   "pygments_lexer": "ipython3",
   "version": "3.8.3"
  },
  "latex_envs": {
   "LaTeX_envs_menu_present": true,
   "autoclose": false,
   "autocomplete": true,
   "bibliofile": "biblio.bib",
   "cite_by": "apalike",
   "current_citInitial": 1,
   "eqLabelWithNumbers": true,
   "eqNumInitial": 1,
   "hotkeys": {
    "equation": "Ctrl-E",
    "itemize": "Ctrl-I"
   },
   "labels_anchors": false,
   "latex_user_defs": false,
   "report_style_numbering": false,
   "user_envs_cfg": false
  }
 },
 "nbformat": 4,
 "nbformat_minor": 5
}
