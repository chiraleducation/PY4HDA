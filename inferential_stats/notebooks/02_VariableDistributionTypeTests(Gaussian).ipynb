{
 "cells": [
  {
   "cell_type": "markdown",
   "id": "9874a8c2",
   "metadata": {},
   "source": [
    "# Variable Distribution Type Tests (Gaussian)\n",
    "- Shapiro-Wilk Test\n",
    "- D’Agostino’s K^2 Test\n",
    "- Anderson-Darling Test"
   ]
  },
  {
   "cell_type": "code",
   "execution_count": null,
   "id": "daf9ff41",
   "metadata": {},
   "outputs": [],
   "source": [
    "import pandas as pd \n",
    "import numpy as np \n",
    "import matplotlib.pyplot as plt\n",
    "import seaborn as sns \n",
    "sns.set(font_scale=2, palette= \"viridis\")\n",
    "from scipy import stats"
   ]
  },
  {
   "cell_type": "code",
   "execution_count": null,
   "id": "51dbd457",
   "metadata": {},
   "outputs": [],
   "source": [
    "data = pd.read_csv('../data/pulse_data.csv')\n",
    "data.head() "
   ]
  },
  {
   "cell_type": "markdown",
   "id": "fb6b64e1",
   "metadata": {},
   "source": [
    "## Visual Normality Check "
   ]
  },
  {
   "cell_type": "code",
   "execution_count": null,
   "id": "c23162bc",
   "metadata": {},
   "outputs": [],
   "source": [
    "data.Height.describe() "
   ]
  },
  {
   "cell_type": "code",
   "execution_count": null,
   "id": "5f10aaf3",
   "metadata": {},
   "outputs": [],
   "source": [
    "data.skew()"
   ]
  },
  {
   "cell_type": "code",
   "execution_count": null,
   "id": "59af9749",
   "metadata": {},
   "outputs": [],
   "source": [
    "data.kurtosis() "
   ]
  },
  {
   "cell_type": "code",
   "execution_count": null,
   "id": "aa33628e",
   "metadata": {},
   "outputs": [],
   "source": [
    "plt.figure(figsize=(10,8))\n",
    "sns.histplot(data=data, x='Height')\n",
    "plt.show()"
   ]
  },
  {
   "cell_type": "code",
   "execution_count": null,
   "id": "221cf3be",
   "metadata": {},
   "outputs": [],
   "source": [
    "plt.figure(figsize=(10,8))\n",
    "sns.histplot(data=data, x='Age', kde=True)\n",
    "plt.show()"
   ]
  },
  {
   "cell_type": "code",
   "execution_count": null,
   "id": "a0d086fb",
   "metadata": {},
   "outputs": [],
   "source": [
    "# Checking for normality by Q-Q plot graph\n",
    "plt.figure(figsize=(12, 8))\n",
    "stats.probplot(data['Age'], plot=plt, dist='norm')\n",
    "plt.show()"
   ]
  },
  {
   "cell_type": "markdown",
   "id": "ade96b57",
   "metadata": {},
   "source": [
    "__the data should be on the red line. If there are data points that are far off of it, it’s an indication that there are some deviations from normality.__"
   ]
  },
  {
   "cell_type": "code",
   "execution_count": null,
   "id": "662235ff",
   "metadata": {},
   "outputs": [],
   "source": [
    "# Checking for normality by Q-Q plot graph\n",
    "plt.figure(figsize=(12, 8))\n",
    "stats.probplot(data['Height'], plot=plt, dist='norm')\n",
    "plt.show()"
   ]
  },
  {
   "cell_type": "markdown",
   "id": "1058e8ac",
   "metadata": {},
   "source": [
    "__the data should be on the red line. If there are data points that are far off of it, it’s an indication that there are some deviations from normality.__"
   ]
  },
  {
   "cell_type": "markdown",
   "id": "5c442e90",
   "metadata": {},
   "source": [
    "## Shapiro-Wilk Test\n",
    "Tests whether a data sample has a Gaussian distribution/normal distribution.\n",
    "\n",
    "### Assumptions\n",
    "Observations in each sample are independent and identically distributed (iid).\n",
    "\n",
    "### Interpretation\n",
    "- H0: The sample has a Gaussian/normal distribution.\n",
    "- Ha: The sample does not have a Gaussian/normal distribution."
   ]
  },
  {
   "cell_type": "code",
   "execution_count": null,
   "id": "fa9e2787",
   "metadata": {},
   "outputs": [],
   "source": [
    "stats.shapiro(data['Age'])"
   ]
  },
  {
   "cell_type": "code",
   "execution_count": null,
   "id": "27921b2e",
   "metadata": {},
   "outputs": [],
   "source": [
    "stat, p_value = shapiro(data['Age'])\n",
    "print(f'statistic = {stat}, p-value = {p_value}')\n",
    "alpha = 0.05 \n",
    "if p_value > alpha: \n",
    "    print(\"The sample has normal distribution(Fail to reject the null hypothesis, the result is not significant)\")\n",
    "else: \n",
    "    print(\"The sample does not have a normal distribution(Reject the null hypothesis, the result is significant)\")"
   ]
  },
  {
   "cell_type": "markdown",
   "id": "c551bb4c",
   "metadata": {},
   "source": [
    "## D’Agostino’s K^2 Test\n",
    "Tests whether a data sample has a Gaussian distribution/normal distribution.\n",
    "\n",
    "### Assumptions\n",
    "Observations in each sample are independent and identically distributed (iid).\n",
    "\n",
    "### Interpretation\n",
    "- H0: The sample has a Gaussian/normal distribution.\n",
    "- Ha: The sample does not have a Gaussian/normal distribution."
   ]
  },
  {
   "cell_type": "code",
   "execution_count": null,
   "id": "02e1132d",
   "metadata": {},
   "outputs": [],
   "source": [
    "stats.normaltest(data['Age'])"
   ]
  },
  {
   "cell_type": "code",
   "execution_count": null,
   "id": "d89e7727",
   "metadata": {},
   "outputs": [],
   "source": [
    "stat, p_value = stats.normaltest(data['Age'])\n",
    "print(f'statistic = {stat}, p-value = {p_value}')\n",
    "alpha = 0.05 \n",
    "if p_value > alpha: \n",
    "    print(\"The sample has normal distribution(Fail to reject the null hypothesis, the result is not significant)\")\n",
    "else: \n",
    "    print(\"The sample does not have a normal distribution(Reject the null hypothesis, the result is significant)\")"
   ]
  },
  {
   "cell_type": "markdown",
   "id": "459f43cf",
   "metadata": {},
   "source": [
    "__Remember__\n",
    "- If Data Is Gaussian:\n",
    "\t- Use Parametric Statistical Methods\n",
    "- Else:\n",
    "\t- Use Nonparametric Statistical Methods"
   ]
  }
 ],
 "metadata": {
  "kernelspec": {
   "display_name": "Python 3",
   "language": "python",
   "name": "python3"
  },
  "language_info": {
   "codemirror_mode": {
    "name": "ipython",
    "version": 3
   },
   "file_extension": ".py",
   "mimetype": "text/x-python",
   "name": "python",
   "nbconvert_exporter": "python",
   "pygments_lexer": "ipython3",
   "version": "3.8.3"
  },
  "latex_envs": {
   "LaTeX_envs_menu_present": true,
   "autoclose": false,
   "autocomplete": true,
   "bibliofile": "biblio.bib",
   "cite_by": "apalike",
   "current_citInitial": 1,
   "eqLabelWithNumbers": true,
   "eqNumInitial": 1,
   "hotkeys": {
    "equation": "Ctrl-E",
    "itemize": "Ctrl-I"
   },
   "labels_anchors": false,
   "latex_user_defs": false,
   "report_style_numbering": false,
   "user_envs_cfg": false
  }
 },
 "nbformat": 4,
 "nbformat_minor": 5
}
